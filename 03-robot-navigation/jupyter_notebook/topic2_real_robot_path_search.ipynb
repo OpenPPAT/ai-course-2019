{
 "cells": [
  {
   "cell_type": "markdown",
   "metadata": {},
   "source": [
    "# Topic2. Real robot path search\n",
    "\n",
    "\n",
    "## 2-1. Import python package"
   ]
  },
  {
   "cell_type": "code",
   "execution_count": 1,
   "metadata": {},
   "outputs": [],
   "source": [
    "%matplotlib inline\n",
    "import matplotlib.pyplot as plt\n",
    "import random\n",
    "import heapq\n",
    "import math\n",
    "import sys\n",
    "import numpy as np\n",
    "from collections import defaultdict, deque, Counter\n",
    "from itertools import combinations"
   ]
  },
  {
   "cell_type": "code",
   "execution_count": 2,
   "metadata": {},
   "outputs": [],
   "source": [
    "MAP_RANGE = (10, 10)"
   ]
  },
  {
   "cell_type": "markdown",
   "metadata": {},
   "source": [
    "## 2-2. Problem abstract & State-space tree node & queue"
   ]
  },
  {
   "cell_type": "code",
   "execution_count": 3,
   "metadata": {},
   "outputs": [],
   "source": [
    "class Problem(object):\n",
    "    def __init__(self, initial=None, goal=None, **kwds): \n",
    "        self.__dict__.update(initial=initial, goal=goal, **kwds) \n",
    "    def actions(self, state):           raise NotImplementedError\n",
    "    def result(self, state, action):    raise NotImplementedError\n",
    "    def is_goal(self, state):           return state == self.goal\n",
    "    def step_cost(self, s, action, s1): return 1\n",
    "    def h(self, node):                  return 0\n",
    "    def __str__(self):\n",
    "        return '{}({}, {})'.format(type(self).__name__, self.initial, self.goal)\n",
    "    \n",
    "class Node:\n",
    "    \"A Node in a search tree.\"\n",
    "    def __init__(self, state, parent=None, action=None, path_cost=0):\n",
    "        self.__dict__.update(state=state, parent=parent, action=action, path_cost=path_cost)\n",
    "    def __repr__(self): return '<{}>'.format(self.state)\n",
    "    def __len__(self): return 0 if self.parent is None else (1 + len(self.parent))\n",
    "    def __lt__(self, other): return self.path_cost < other.path_cost\n",
    "    \n",
    "failure = Node('failure', path_cost=float('inf')) # Indicates an algorithm couldn't find a solution.\n",
    "cutoff  = Node('cutoff',  path_cost=float('inf')) # Indicates iterative deepening search was cut off.\n",
    "    \n",
    "    \n",
    "def expand(problem, node):\n",
    "    \"Expand a node, generating the children nodes.\"\n",
    "    s = node.state\n",
    "    for action in problem.actions(s):\n",
    "        s1 = problem.result(s, action)\n",
    "        cost = node.path_cost + problem.step_cost(s, action, s1)\n",
    "        yield Node(s1, node, action, cost)\n",
    "    \n",
    "def path_actions(node):\n",
    "    \"The sequence of actions to get to this node.\"\n",
    "    return [] if node.parent is None else path_actions(node.parent) + [node.action]\n",
    "\n",
    "def path_states(node):\n",
    "    \"The sequence of states to get to this node.\"\n",
    "    if node in (cutoff, failure, None): return []\n",
    "    return path_states(node.parent) + [node.state]"
   ]
  },
  {
   "cell_type": "markdown",
   "metadata": {},
   "source": [
    "<font color=\"red\">\n",
    "    \n",
    "## 2-3. Grid Problem for fixed map\n",
    "\n",
    "</font>\n",
    "\n",
    "We define a `GridProblem` class here to present a problem has an initial point, a goal point, obstacles and other limitations. Assume a robot is locate on initial point, you need to use search method to plan a path and avoid robot bump into the wall."
   ]
  },
  {
   "cell_type": "code",
   "execution_count": 4,
   "metadata": {},
   "outputs": [],
   "source": [
    "class GridProblem(Problem):\n",
    "    \"\"\"Finding a path on a 2D grid with obstacles. Obstacles are (x, y) cells.\"\"\"\n",
    "    \n",
    "    def __init__(self, initial=(0.8, 0.8), goal=(1.5, 7.2), obstacles=(),\n",
    "                 grid_size=0.2, veh_size=(0.6, 0.6), map_range=MAP_RANGE, **kwds):\n",
    "        \n",
    "        Problem.__init__(self, initial=initial, goal=goal, obstacles=set(obstacles) - {initial},\n",
    "                         grid_size=grid_size, veh_size=veh_size, map_range=map_range, **kwds)\n",
    "        \n",
    "        # inline function\n",
    "        self.to_grid = lambda state: (int(state[0]*10/self.grid_size/10), int(state[1]*10/self.grid_size/10))\n",
    "        \n",
    "        self.directions = [(0, -1), (-1, 0), (1,  0), (0, +1)]\n",
    "        \n",
    "        self.gridmap = set()\n",
    "        \n",
    "        self.generate_gridmap()\n",
    "        \n",
    "        if not self.is_state_safe(self.goal):\n",
    "            raise ValueError('goal:{} is invaild, it could not be set in obstacle\\n or out of range {}~{} m'.format( self.goal, self.veh_size, \\\n",
    "                                (self.map_range[0]-self.veh_size[0], self.map_range[1]-self.veh_size[1])))\n",
    "        \n",
    "    \n",
    "    def is_state_safe(self, state):\n",
    "        if state[0] < self.veh_size[0] or state[0] > self.map_range[0]-self.veh_size[0] or \\\n",
    "            state[1] < self.veh_size[1] or state[1] > self.map_range[1]-self.veh_size[1]:\n",
    "            return False\n",
    "        elif self.to_grid(state) in self.gridmap:\n",
    "            return False\n",
    "        else:    return True\n",
    "    \n",
    "    def generate_gridmap(self):\n",
    "        for p in self.obstacles:\n",
    "            self.gridmap.add(self.to_grid(p))\n",
    "            \n",
    "        # Remove initial point point from grid map\n",
    "        self.gridmap = self.gridmap - {self.to_grid(self.initial)}\n",
    "            \n",
    "    def step_cost(self, s, action, s1): return straight_line_distance(s, s1)\n",
    "    \n",
    "    def h(self, node): return straight_line_distance(node.state, self.goal)\n",
    "                  \n",
    "    def result(self, state, action): \n",
    "        \"Both states and actions are represented by (x, y) pairs.\"\n",
    "        result_grid_loc = self.to_grid(state)\n",
    "        return action if action not in self.gridmap else state\n",
    "    \n",
    "    def actions(self, state):\n",
    "        \"\"\"You can move one cell in any of `directions` to a non-obstacle cell.\"\"\"\n",
    "        x, y = state\n",
    "        grid_p = self.to_grid(state)\n",
    "        action_list = []\n",
    "        for (dx, dy) in self.directions:\n",
    "            next_p = (grid_p[0]+dx, grid_p[1]+dy)\n",
    "            if next_p not in self.gridmap:\n",
    "                action_list.append((round(next_p[0]*self.grid_size + 0.5*self.grid_size, 3), \\\n",
    "                                    round(next_p[1]*self.grid_size + 0.5*self.grid_size, 3)))\n",
    "        return action_list\n",
    "    \n",
    "    def is_goal(self, state):\n",
    "        return self.to_grid(state) == self.to_grid(self.goal)\n"
   ]
  },
  {
   "cell_type": "markdown",
   "metadata": {},
   "source": [
    "## 2-4. Obstacle generator\n",
    "\n",
    "This section is prepared for obstacle generator. Note that we use `yield` to create iterable variable, then use `set()` to include all elements in the grid problem. If you want to know more about `yield`, please ask TA or visit [Stackflew](https://stackoverflow.com/questions/231767/what-does-the-yield-keyword-do) or [Chinese intro](https://liam.page/2017/06/30/understanding-yield-in-python/)."
   ]
  },
  {
   "cell_type": "code",
   "execution_count": 5,
   "metadata": {},
   "outputs": [],
   "source": [
    "def transpose(matrix): return list(zip(*matrix))\n",
    "\n",
    "# The following can be used to create obstacles:\n",
    "def straight_line_distance(point1, point2):\n",
    "    \"Straight-line distance between two 2D points.\"\n",
    "    return abs(complex(*point1) - complex(*point2))\n",
    "            \n",
    "def line(x, y, dx, dy, length):\n",
    "    \"\"\"A line of `length` cells starting at (x, y) and going in (dx, dy) direction.\"\"\"\n",
    "    return {(x + i * dx, y + i * dy) for i in np.arange(0, length*1.001, 0.01)}\n",
    "\n",
    "def add_block(x, y, len_x, len_y):\n",
    "    for obj_line in line(x, y, 1, 0, len_x):\n",
    "        yield obj_line\n",
    "    for obj_line in line(x, y+len_y, 1, 0, len_x):\n",
    "        yield obj_line\n",
    "    for obj_line in line(x, y, 0, 1, len_y):\n",
    "        yield obj_line\n",
    "    for obj_line in line(x+len_x, y, 0, 1, len_y):\n",
    "        yield obj_line\n",
    "\n",
    "def fixed_map(obs_list=None, obs_size=(0.25, 0.25)):\n",
    "    for obj_line in add_block(x=0, y=0, len_x=MAP_RANGE[0]-0.2, len_y=MAP_RANGE[1]-0.2):\n",
    "        yield obj_line\n",
    "        \n",
    "    # duckiebot field\n",
    "    for obj_line in add_block(x=4.0, y=2.0, len_x=2.4, len_y=3.6):\n",
    "        yield obj_line\n",
    "\n",
    "#     # center watchtower 1\n",
    "#     for obj_line in add_block(x=0.6, y=1.0, len_x=1.0, len_y=0.4):\n",
    "#         yield obj_line\n",
    "    \n",
    "#     # center watchtower 2\n",
    "#     for obj_line in add_block(x=0.6, y=2.25, len_x=1.0, len_y=0.4):\n",
    "#         yield obj_line\n",
    "        \n",
    "    # custom obstacles\n",
    "    if obs_list != None:\n",
    "        for obs in obs_list:\n",
    "            for obj_line in add_block(x=obs[0]-obs_size[0]/2, y=obs[1]-obs_size[1]/2, \\\n",
    "                                          len_x=obs_size[0], len_y=obs_size[1]):\n",
    "                yield obj_line\n",
    "        "
   ]
  },
  {
   "cell_type": "markdown",
   "metadata": {},
   "source": [
    "<font color=\"red\">\n",
    "    \n",
    "## 2-5. Search methods\n",
    "</font>\n",
    "\n",
    "This section declare classic search algorithms to solve the problem defined above. Noted that we made a change in the code. `reached` variable need to be changed to global varible for storing the process of searching."
   ]
  },
  {
   "cell_type": "code",
   "execution_count": 6,
   "metadata": {},
   "outputs": [
    {
     "data": {
      "image/png": "[encoded data removed]",
      "text/plain": [
       "<Figure size 1440x576 with 2 Axes>"
      ]
     },
     "metadata": {
      "needs_background": "light"
     },
     "output_type": "display_data"
    }
   ],
   "source": [
    "# Difference between real map and grid map\n",
    "gp1 = GridProblem(grid_size=0.1, obstacles=fixed_map())\n",
    "\n",
    "plt.figure(figsize=(20, 8))\n",
    "plt.subplot(121)\n",
    "plt.title('Real map')\n",
    "obs_list = transpose(list(gp1.obstacles))\n",
    "plt.scatter(obs_list[0], obs_list[1], marker='s', color='darkgrey')\n",
    "\n",
    "plt.subplot(122)\n",
    "plt.title('Grid map')\n",
    "grid_list = transpose(list(gp1.gridmap))\n",
    "plt.scatter(grid_list[0], grid_list[1], marker='s', color='darkgrey')\n",
    "plt.show()"
   ]
  },
  {
   "cell_type": "code",
   "execution_count": 7,
   "metadata": {},
   "outputs": [],
   "source": [
    "FIFOQueue = deque\n",
    "\n",
    "LIFOQueue = list\n",
    "\n",
    "class PriorityQueue:\n",
    "    \"\"\"A queue in which the item with minimum f(item) is always popped first.\"\"\"\n",
    "\n",
    "    def __init__(self, items=(), key=lambda x: x): \n",
    "        self.key = key\n",
    "        self.items = [] # a heap of (score, item) pairs\n",
    "        for item in items:\n",
    "            self.add(item)\n",
    "         \n",
    "    def add(self, item):\n",
    "        \"\"\"Add item to the queuez.\"\"\"\n",
    "        pair = (self.key(item), item)\n",
    "        heapq.heappush(self.items, pair)\n",
    "\n",
    "    def pop(self):\n",
    "        \"\"\"Pop and return the item with min f(item) value.\"\"\"\n",
    "        return heapq.heappop(self.items)[1]\n",
    "    \n",
    "    def top(self): return self.items[0][1]\n",
    "\n",
    "    def __len__(self): return len(self.items)"
   ]
  },
  {
   "cell_type": "code",
   "execution_count": 8,
   "metadata": {},
   "outputs": [],
   "source": [
    "def breadth_first_search(problem):\n",
    "    \"Search shallowest nodes in the search tree first.\"\n",
    "    frontier = FIFOQueue([Node(problem.initial)])\n",
    "    global reached # <<<<<<<<<<< Only change here\n",
    "    reached = set()\n",
    "    while frontier:\n",
    "        node = frontier.pop()\n",
    "        if problem.is_goal(node.state):\n",
    "            return node\n",
    "        for child in expand(problem, node):\n",
    "            s = child.state\n",
    "            if s not in reached:\n",
    "                reached.add(s)\n",
    "                frontier.appendleft(child)\n",
    "    return failure"
   ]
  },
  {
   "cell_type": "markdown",
   "metadata": {},
   "source": [
    "### Best-first search\n",
    "\n",
    "Best-first search with various f(n) functions gives us different search algorithms. Note that A* can be given a heuristic function h, providing additional information for finding an approximate solution. but if h is not supplied they use the problem's default h function.\n",
    "\n",
    "**THE MAIN MISSION TODAY**  is to difine a custom search algrithm to solve grid problem. You can actually expect the path result according to what information you provided. For example, `uniform_cost_search` cares more about `path_cost` that means you may pay lower cost (designed by yourself) from A point to B point."
   ]
  },
  {
   "cell_type": "code",
   "execution_count": 9,
   "metadata": {},
   "outputs": [],
   "source": [
    "def best_first_search(problem, f):\n",
    "    \"Search nodes with minimum f(node) value first; make `reached` global.\"\n",
    "    global reached\n",
    "    frontier = PriorityQueue([Node(problem.initial)], key=f)\n",
    "    reached = {}\n",
    "    while len(frontier) != 0:\n",
    "        node = frontier.pop()\n",
    "        if problem.is_goal(node.state):\n",
    "            return node\n",
    "        for child in expand(problem, node):\n",
    "            s = child.state\n",
    "            if (s not in reached) or (child.path_cost < reached[s].path_cost):\n",
    "                reached[s] = child\n",
    "                frontier.add(child)\n",
    "    return failure\n",
    "\n",
    "\n",
    "# It is also famous as Dijkstra's algorithm\n",
    "def uniform_cost_search(problem):\n",
    "    \"Search nodes with minimum path cost first.\"\n",
    "    return best_first_search(problem, f=lambda node: node.path_cost)\n",
    "\n",
    "# It is also famous as Dijkstra's algorithm\n",
    "def uniform_cost_search(problem):\n",
    "    \"Search nodes with minimum path cost first.\"\n",
    "    return best_first_search(problem, f=lambda node: node.path_cost)\n",
    "\n",
    "def astar_search(problem, h=None):\n",
    "    \"\"\"Search nodes with minimum f(n) = g(n) + h(n).\"\"\"\n",
    "    h = h or problem.h\n",
    "    return best_first_search(problem, f=lambda node: node.path_cost + h(node))\n",
    "\n",
    "def custom_search(problem):\n",
    "    global gp_global\n",
    "    \n",
    "    if problem != None: gp_global = problem\n",
    "        \n",
    "    \"\"\"Search nodes with minimum f(node), you need to define a f(n) by some attributes from node\"\"\"\n",
    "    return best_first_search(problem, f=custom_func)\n",
    "\n",
    "def custom_func(node):\n",
    "    global gp_global\n",
    "    '''\n",
    "    You can return any infomation you want to provide\n",
    "    \n",
    "    Hint:\n",
    "    if you want to get heuristic value on specific node --> gp_global.h(node)\n",
    "    if you want to get action_list on specific state    --> gp_global.actions(node.state)\n",
    "    if you want to get previous state (need NoneValue check) --> node.parent.state\n",
    "    if you want to get current x,y --> (x,y) = node.state\n",
    "    if you want to current direction and previous direction \n",
    "        \n",
    "    -->if node.parent != None and node.parent.parent != None:\n",
    "        dir1 = tuple(np.subtract(node.parent.state, node.state))\n",
    "        dir2 = tuple(np.subtract(node.parent.parent.state, node.parent.state))\n",
    "        print(dir1, dir2)\n",
    "    \n",
    "    '''\n",
    "\n",
    "    return node.path_cost "
   ]
  },
  {
   "cell_type": "markdown",
   "metadata": {},
   "source": [
    "## 2-6. Ploting function\n",
    "\n",
    "Here we declare a ploting function to visialize problem and test some search algorithm. you can see difference of them."
   ]
  },
  {
   "cell_type": "code",
   "execution_count": 10,
   "metadata": {},
   "outputs": [],
   "source": [
    "def plot_grid_problem(grid_problem, solution, reached=(), title='Search'):\n",
    "    \"Use matplotlib to plot the grid, obstacles, solution, and reached.\"\n",
    "    plt.figure(figsize=(15, 6))\n",
    "    plt.axis('off'); plt.axis('equal')\n",
    "    \n",
    "    # plot initial position and goal\n",
    "    start = grid_problem.to_grid(grid_problem.initial)\n",
    "    goal = grid_problem.to_grid(grid_problem.goal)\n",
    "    plt.scatter(start[0], start[1], 11**2, marker='D', c='green')\n",
    "    plt.scatter(goal[0], goal[1], 10**2, marker='D', c='red')\n",
    "    plt.legend(['current_loc', 'goal_loc'])\n",
    "    \n",
    "    # plot obstacle\n",
    "    obs_list = transpose(list(grid_problem.gridmap))\n",
    "    if len(obs_list) != 0:\n",
    "        plt.scatter(obs_list[0], obs_list[1], marker='s', color='darkgrey')\n",
    "    \n",
    "    # plot reached path\n",
    "    reached_list = transpose([grid_problem.to_grid(point) for point in reached])\n",
    "    if len(reached_list) != 0:\n",
    "        plt.scatter(reached_list[0], reached_list[1], 1**2, marker='.', c='blue')\n",
    "    \n",
    "    # plot solution path\n",
    "    traj_list = transpose([grid_problem.to_grid(point) for point in path_states(solution)])\n",
    "    if len(traj_list) != 0:\n",
    "        plt.scatter(traj_list[0], traj_list[1], marker='s', c='black')\n",
    "\n",
    "    plt.show()\n",
    "    print('{} {} search: {:.1f} path cost, {:,d} states reached'\n",
    "          .format(' ' * 30, title, solution.path_cost, len(reached)))"
   ]
  },
  {
   "cell_type": "code",
   "execution_count": 11,
   "metadata": {},
   "outputs": [
    {
     "data": {
      "image/png": "[encoded data removed]",
      "text/plain": [
       "<Figure size 1080x432 with 1 Axes>"
      ]
     },
     "metadata": {
      "needs_background": "light"
     },
     "output_type": "display_data"
    },
    {
     "name": "stdout",
     "output_type": "stream",
     "text": [
      "                               Breadth first search: 14.3 path cost, 7,914 states reached\n"
     ]
    },
    {
     "data": {
      "image/png": "[encoded data removed]",
      "text/plain": [
       "<Figure size 1080x432 with 1 Axes>"
      ]
     },
     "metadata": {
      "needs_background": "light"
     },
     "output_type": "display_data"
    },
    {
     "name": "stdout",
     "output_type": "stream",
     "text": [
      "                               Dijkstra (Uniform cost) search: 14.3 path cost, 7,906 states reached\n"
     ]
    },
    {
     "data": {
      "image/png": "[encoded data removed]",
      "text/plain": [
       "<Figure size 1080x432 with 1 Axes>"
      ]
     },
     "metadata": {
      "needs_background": "light"
     },
     "output_type": "display_data"
    },
    {
     "name": "stdout",
     "output_type": "stream",
     "text": [
      "                               Custom algorithm search: 14.3 path cost, 7,906 states reached\n"
     ]
    },
    {
     "data": {
      "image/png": "[encoded data removed]",
      "text/plain": [
       "<Figure size 1080x432 with 1 Axes>"
      ]
     },
     "metadata": {
      "needs_background": "light"
     },
     "output_type": "display_data"
    },
    {
     "name": "stdout",
     "output_type": "stream",
     "text": [
      "                               Custom algorithm search: 14.3 path cost, 5,590 states reached\n"
     ]
    }
   ],
   "source": [
    "# Test algorithms on small map\n",
    "\n",
    "gp1 = GridProblem(initial=(1.0, 0.8), goal=(7.2, 8.8), grid_size=0.1, obstacles=fixed_map())\n",
    "sol1 = breadth_first_search(gp1)\n",
    "plot_grid_problem(gp1, sol1, reached, title='Breadth first')\n",
    "\n",
    "sol2 = uniform_cost_search(gp1)\n",
    "plot_grid_problem(gp1, sol2, reached, title='Dijkstra (Uniform cost)')\n",
    "\n",
    "sol3 = custom_search(gp1)\n",
    "plot_grid_problem(gp1, sol3, reached, title='Custom algorithm')\n",
    "\n",
    "sol4 = astar_search(gp1)\n",
    "plot_grid_problem(gp1, sol3, reached, title='Custom algorithm')"
   ]
  },
  {
   "cell_type": "markdown",
   "metadata": {},
   "source": [
    "<font color=\"red\">\n",
    "    \n",
    "# ROS start here !!\n",
    "</font>\n",
    "\n",
    "This section is designed for **MMBOT DEMO**, we will infer some ROS concept for message communication from node to node. We don't cover all ROS tutorial in this course. So if you want to know more about ROS, we suggest you visit [CLEARPATH official tutorial](http://www.clearpathrobotics.com/assets/guides/ros/).\n",
    "\n",
    "We also provide ROS keywords refered in this tutorial, you can google it if you are interested in it:\n",
    "- ROS Master\n",
    "- ROS Node\n",
    "- ROS Message\n",
    "- ROS Subscriber/Publisher\n",
    "- ROS Package\n"
   ]
  },
  {
   "cell_type": "markdown",
   "metadata": {},
   "source": [
    "### Import ROS related package"
   ]
  },
  {
   "cell_type": "markdown",
   "metadata": {},
   "source": [
    "Compile laptop_ws first, this process will several python packages which we need. please wait here for a while."
   ]
  },
  {
   "cell_type": "code",
   "execution_count": null,
   "metadata": {},
   "outputs": [],
   "source": [
    "%%bash\n",
    "catkin_make -C ../laptop_ws\n",
    "source ../laptop_ws/devel/setup.bash\n",
    "export ROS_IP=$(hostname -I)"
   ]
  },
  {
   "cell_type": "code",
   "execution_count": null,
   "metadata": {},
   "outputs": [],
   "source": [
    "import sys\n",
    "sys.path.insert(0, '../laptop_ws/devel/lib/python2.7/dist-packages')\n",
    "\n",
    "import os\n",
    "import rospy\n",
    "import tf\n",
    "\n",
    "# Create path msh to mmbot\n",
    "from nav_msgs.msg import Odometry, Path\n",
    "from geometry_msgs.msg import PoseStamped\n",
    "\n",
    "# Location msg from watch tower server\n",
    "from duckietown_msgs.msg import Pose2DStamped, GlobalPoseArray"
   ]
  },
  {
   "cell_type": "markdown",
   "metadata": {},
   "source": [
    "### ROS node initialization"
   ]
  },
  {
   "cell_type": "code",
   "execution_count": null,
   "metadata": {},
   "outputs": [],
   "source": [
    "# ROS_MASTER_URI must to be set\n",
    "os.environ[\"ROS_MASTER_URI\"] = \"http://192.168.50.150:11311\"\n",
    "\n",
    "\n",
    "rospy.init_node(\"path_planning_node\", anonymous = False)\n",
    "\n",
    "# Bot name must to be set\n",
    "BOT_NAME = \"super_pi01\"                 \n",
    "path_pub = rospy.Publisher(BOT_NAME + '/planning_path', Path, queue_size=10)"
   ]
  },
  {
   "cell_type": "markdown",
   "metadata": {},
   "source": [
    "### How to get the location message"
   ]
  },
  {
   "cell_type": "code",
   "execution_count": null,
   "metadata": {},
   "outputs": [],
   "source": [
    "# Set location infomation as global variable\n",
    "global initial_point\n",
    "initial_point = (0, 0)\n",
    "\n",
    "global obs_list\n",
    "obs_list = [(0, 0)] * 4"
   ]
  },
  {
   "cell_type": "code",
   "execution_count": null,
   "metadata": {},
   "outputs": [],
   "source": [
    "def location_cb(msg):\n",
    "    global initial_point\n",
    "    global obs_list\n",
    "    \n",
    "    initial_point = (0, 0)\n",
    "    \n",
    "    for pose in msg.poses:\n",
    "        if pose.bot_id == 436 and BOT_NAME != \"super_pi01\": obs_list[0] = pose.pose.x, pose.pose.y\n",
    "        if pose.bot_id == 439 and BOT_NAME != \"super_pi02\": obs_list[1] = pose.pose.x, pose.pose.y\n",
    "        if pose.bot_id == 404 and BOT_NAME != \"super_pi03\": obs_list[2] = pose.pose.x, pose.pose.y\n",
    "        if pose.bot_id == 405 and BOT_NAME != \"super_pi04\": obs_list[3] = pose.pose.x, pose.pose.y\n",
    "        \n",
    "        # id=436--> super_pi01,\n",
    "        # id=439--> super_pi02,\n",
    "        # id=404--> super_pi03,\n",
    "        # id=405--> super_pi04,`\n",
    "        if (BOT_NAME == \"super_pi01\" and pose.bot_id == 436) or \\\n",
    "            (BOT_NAME == \"super_pi02\" and pose.bot_id == 439) or \\\n",
    "            (BOT_NAME == \"super_pi03\" and pose.bot_id == 404) or \\\n",
    "            (BOT_NAME == \"super_pi04\" and pose.bot_id == 405): \n",
    "            initial_point = (pose.pose.x, pose.pose.y)\n",
    "            \n",
    "loc_sub = rospy.Subscriber(\"/nctuece/pose_optimization/bot_global_poses_optimized\", \\\n",
    "                          data_class=GlobalPoseArray, \\\n",
    "                          callback=location_cb)\n"
   ]
  },
  {
   "cell_type": "code",
   "execution_count": null,
   "metadata": {
    "scrolled": false
   },
   "outputs": [],
   "source": [
    "while initial_point == (0,0):\n",
    "    print('didn\\'t get location info')\n",
    "    rospy.sleep(1)\n",
    "\n",
    "print('Initial_point: {}'.format(initial_point))\n",
    "print('Obstacle list: {}'.format(obs_list))"
   ]
  },
  {
   "cell_type": "markdown",
   "metadata": {},
   "source": [
    "### Solve the problem by custom search algorithm"
   ]
  },
  {
   "cell_type": "code",
   "execution_count": null,
   "metadata": {
    "scrolled": true
   },
   "outputs": [],
   "source": [
    "goal_point = (1.0, 0.4)\n",
    "gp1 = GridProblem(initial=initial_point, goal=goal_point, grid_size=0.1, obstacles=fixed_map(obs_list=obs_list))\n",
    "solution = custom_search(gp1)\n",
    "plot_grid_problem(gp1, solution, reached)"
   ]
  },
  {
   "cell_type": "markdown",
   "metadata": {},
   "source": [
    "### Publish the planning path to the robot"
   ]
  },
  {
   "cell_type": "code",
   "execution_count": null,
   "metadata": {},
   "outputs": [],
   "source": [
    "path = Path()\n",
    "path.header.frame_id = 'map'\n",
    "path.header.stamp = rospy.Time.now()\n",
    "\n",
    "traj_list = list(path_states(solution))\n",
    "\n",
    "print('planning trajectory:')\n",
    "for a in traj_list: print(a)\n",
    "    \n",
    "for i in range(len(traj_list)-1) :\n",
    "    p = PoseStamped()\n",
    "    p.header.frame_id = 'map'\n",
    "    p.header.stamp = rospy.Time.now()\n",
    "    p.pose.position.x = traj_list[i][0]\n",
    "    p.pose.position.y = traj_list[i][1]\n",
    "    \n",
    "    head_angle = math.atan2(traj_list[i+1][1] - traj_list[i][1],\n",
    "                            traj_list[i+1][0] - traj_list[i][0])\n",
    "#     print(p.pose.position.x, p.pose.position.y, head_angle*180.0/math.pi)\n",
    "    \n",
    "    (p.pose.orientation.x, p.pose.orientation.y, p.pose.orientation.z, p.pose.orientation.w) = tf.transformations.quaternion_from_euler(0, 0, math.pi)\n",
    "    path.poses = path.poses + [p]\n",
    "\n",
    "# publish path msg\n",
    "# for i in range(10):\n",
    "#     path_pub.publish(path)"
   ]
  },
  {
   "cell_type": "markdown",
   "metadata": {},
   "source": [
    "<font color=\"red\">\n",
    "    \n",
    "   # Notice!!  \n",
    "</font>\n",
    "\n",
    "### The following code will run all process let robot move from point A to B."
   ]
  },
  {
   "cell_type": "code",
   "execution_count": null,
   "metadata": {},
   "outputs": [],
   "source": [
    "def robot_navigate(goal_point):\n",
    "    for i in range(50):\n",
    "        while initial_point == (0, 0):\n",
    "            pass\n",
    "\n",
    "        print('Initial_point: {}'.format(initial_point))\n",
    "        gp = GridProblem(initial=initial_point, goal=goal_point, grid_size=0.1, obstacles=fixed_map(obs_list=obs_list))\n",
    "        solution = uniform_cost_search(gp)\n",
    "        plot_grid_problem(gp, solution, reached)\n",
    "\n",
    "        # Arrived goal\n",
    "        if gp.to_grid(gp.initial) == gp.to_grid(gp.goal): break\n",
    "\n",
    "\n",
    "        # Create path\n",
    "        path = Path()\n",
    "        path.header.frame_id = 'map'\"\"\n",
    "        path.header.stamp = rospy.Time.now()\n",
    "        traj_list = [p for p in list(path_states(solution))]\n",
    "\n",
    "        print('=====================')\n",
    "        print(initial_point)\n",
    "        print(traj_list)\n",
    "\n",
    "        for i in range(len(traj_list)) :\n",
    "            p = PoseStamped()\n",
    "            p.header.frame_id = 'map'\n",
    "            p.header.stamp = rospy.Time.now()\n",
    "            p.pose.position.x = traj_list[i][0]\n",
    "            p.pose.position.y = traj_list[i][1]\n",
    "\n",
    "            if i is len(traj_list)-1:\n",
    "                p.pose.orientation = path.poses[-1].pose.orientation\n",
    "            else: \n",
    "                head_angle = math.atan2(traj_list[i+1][1] - traj_list[i][1],\n",
    "                                        traj_list[i+1][0] - traj_list[i][0])\n",
    "\n",
    "            (p.pose.orientation.x, p.pose.orientation.y, p.pose.orientation.z, p.pose.orientation.w) = tf.transformations.quaternion_from_euler(0, 0, math.pi)\n",
    "            path.poses = path.poses + [p]\n",
    "\n",
    "        for i in range(5):\n",
    "            path_pub.publish(path)\n",
    "\n",
    "        rospy.sleep(duration=1)\n",
    "    "
   ]
  },
  {
   "cell_type": "code",
   "execution_count": null,
   "metadata": {},
   "outputs": [],
   "source": [
    "robot_navigate(goal_point=(0.4, 0.7))"
   ]
  },
  {
   "cell_type": "code",
   "execution_count": null,
   "metadata": {},
   "outputs": [],
   "source": []
  }
 ],
 "metadata": {
  "kernelspec": {
   "display_name": "Python 2",
   "language": "python",
   "name": "python2"
  },
  "language_info": {
   "codemirror_mode": {
    "name": "ipython",
    "version": 2
   },
   "file_extension": ".py",
   "mimetype": "text/x-python",
   "name": "python",
   "nbconvert_exporter": "python",
   "pygments_lexer": "ipython2",
   "version": "2.7.12"
  }
 },
 "nbformat": 4,
 "nbformat_minor": 2
}
