{
 "cells": [
  {
   "cell_type": "markdown",
   "metadata": {},
   "source": [
    "## Import libraries"
   ]
  },
  {
   "cell_type": "code",
   "execution_count": null,
   "metadata": {},
   "outputs": [],
   "source": [
    "import numpy as np\n",
    "import torch\n",
    "import torch.nn as nn\n",
    "import torch.utils.data as Data\n",
    "import torchvision\n",
    "import os\n",
    "import matplotlib.pyplot as plt\n",
    "\n",
    "#reproducible\n",
    "torch.manual_seed(1)"
   ]
  },
  {
   "cell_type": "code",
   "execution_count": null,
   "metadata": {},
   "outputs": [],
   "source": [
    "use_cuda = torch.cuda.is_available()\n",
    "print(use_cuda)\n",
    "use_cuda = False"
   ]
  },
  {
   "cell_type": "markdown",
   "metadata": {},
   "source": [
    "If the above output **False** means you can't use cuda acceleration. Don't worry It'll still work fine."
   ]
  },
  {
   "cell_type": "markdown",
   "metadata": {},
   "source": [
    "## Define LeNet CNN\n",
    "\n",
    "**LeNet structure:**\n",
    "\n",
    "Conv2d -> Activation -> MaxPooling\n",
    "\n",
    "-> Conv2d -> Activation -> MaxPooling\n",
    "\n",
    "-> Flattening -> FullyConnected -> Activation\n",
    "\n",
    "-> FullyConnected -> Activation\n",
    "\n",
    "-> FullyConnected -> Activation\n",
    "\n",
    "![LeNet](https://pic1.zhimg.com/80/v2-e144b987285eb9cdba097c9375244074_hd.jpg)\n",
    "\n",
    "Used function:\n",
    "- Convolution: nn.Conv2d(in_channels, out_channels, kernel_size, stride, padding)\n",
    "- Activation: nn.ReLU()\n",
    "- MaxPooling: nn.MaxPool2d(kernel_size)\n",
    "- FullyConnected: nn.Linear(input_channels, output_channels)"
   ]
  },
  {
   "cell_type": "code",
   "execution_count": null,
   "metadata": {},
   "outputs": [],
   "source": [
    "class CNN(nn.Module):\n",
    "    def __init__(self):\n",
    "        '''Comlete this part'''\n",
    "        \n",
    "\n",
    "    def forward(self, x):\n",
    "        '''Comlete this part'''\n",
    "        return output, x    # return x for visualization"
   ]
  },
  {
   "cell_type": "code",
   "execution_count": null,
   "metadata": {},
   "outputs": [],
   "source": [
    "cnn = CNN()\n",
    "if(use_cuda): cnn.cuda() # Moves all model parameters and buffers to the GPU.\n",
    "print(cnn)"
   ]
  },
  {
   "cell_type": "markdown",
   "metadata": {},
   "source": [
    "## Preparing Dataset"
   ]
  },
  {
   "cell_type": "markdown",
   "metadata": {},
   "source": [
    "Check if MNIST is already downloaded"
   ]
  },
  {
   "cell_type": "code",
   "execution_count": null,
   "metadata": {},
   "outputs": [],
   "source": [
    "DOWNLOAD_FM = False\n",
    "# Mnist digits dataset\n",
    "if not(os.path.exists('./dataset/FashionMNIST/')) or not os.listdir('./dataset/FashionMNIST/'):\n",
    "    # not mnist dir or mnist is empyt dir\n",
    "    DOWNLOAD_FM = True\n",
    "    \n",
    "print(DOWNLOAD_FM)"
   ]
  },
  {
   "cell_type": "markdown",
   "metadata": {},
   "source": [
    "Loading training data"
   ]
  },
  {
   "cell_type": "code",
   "execution_count": null,
   "metadata": {},
   "outputs": [],
   "source": [
    "# Data preprocessing: normalize image data so that grayscale data is between -1 and +1\n",
    "tf = torchvision.transforms.Compose([torchvision.transforms.ToTensor(),torchvision.transforms.Normalize((0.5,), (0.5,))])\n",
    "\n",
    "train_data = torchvision.datasets.FashionMNIST(\n",
    "    root='./dataset/',\n",
    "    train=True,\n",
    "    transform=tf,\n",
    "    download=DOWNLOAD_FM,\n",
    ")\n",
    "# Data Loader for easy mini-batch return in training, the image batch shape will be (50, 1, 28, 28)\n",
    "train_loader = Data.DataLoader(dataset=train_data, batch_size=64, shuffle=True)"
   ]
  },
  {
   "cell_type": "markdown",
   "metadata": {},
   "source": [
    "pick 2000 samples to speed up testing"
   ]
  },
  {
   "cell_type": "code",
   "execution_count": null,
   "metadata": {},
   "outputs": [],
   "source": [
    "test_data = torchvision.datasets.FashionMNIST(\n",
    "    root='./dataset/',\n",
    "    train=False,\n",
    "    transform=tf\n",
    ")\n",
    "test_loader = Data.DataLoader(test_data, batch_size=64, shuffle=True)"
   ]
  },
  {
   "cell_type": "code",
   "execution_count": null,
   "metadata": {},
   "outputs": [],
   "source": [
    "labellist = ['T-shirt','Trouser','Pullover','Dress','Coat','Sandal','Shirt','Sneaker','Bag','Ankle boot']\n",
    "# print(f'The corresponding label for this image is {labellist[imagedemolabel]}')"
   ]
  },
  {
   "cell_type": "markdown",
   "metadata": {},
   "source": [
    "plot one example"
   ]
  },
  {
   "cell_type": "code",
   "execution_count": null,
   "metadata": {},
   "outputs": [],
   "source": [
    "PIC_IDX = 800 # change this to see different picture\n",
    "print(train_data.train_data.size())                 # (60000, 28, 28)\n",
    "print(train_data.train_labels.size())               # (60000)\n",
    "plt.imshow(train_data.train_data[PIC_IDX].numpy(), cmap='gray')\n",
    "plt.title(labellist[train_data.train_labels[PIC_IDX]])\n",
    "plt.show()"
   ]
  },
  {
   "cell_type": "markdown",
   "metadata": {},
   "source": [
    "## Training\n",
    "Now we are ready to train"
   ]
  },
  {
   "cell_type": "code",
   "execution_count": null,
   "metadata": {},
   "outputs": [],
   "source": [
    "EPOCH = 5               # train the training data n times, to save time, we just train 1 epoch\n",
    "LR = 0.01              # learning rate\n",
    "\n",
    "optimizer = torch.optim.Adam(cnn.parameters(), lr=LR)   # optimize all cnn parameters\n",
    "loss_func = nn.CrossEntropyLoss()                       # the target label is not one-hotted"
   ]
  },
  {
   "cell_type": "code",
   "execution_count": null,
   "metadata": {
    "scrolled": true
   },
   "outputs": [],
   "source": [
    "# train_losses, test_losses = [], []\n",
    "\n",
    "for epoch in range(EPOCH):\n",
    "    for step, (images, labels) in enumerate(train_loader):\n",
    "        optimizer.zero_grad()\n",
    "        if(use_cuda):\n",
    "            images = images.cuda()\n",
    "            labels = labels.cuda()\n",
    "        log_ps, hidden = cnn(images)\n",
    "        loss = loss_func(log_ps, labels)\n",
    "        loss.backward()\n",
    "        optimizer.step()\n",
    "    \n",
    "        if step%100 == 0 or step == len(train_loader)-1:\n",
    "            test_loss = 0\n",
    "            accuracy = 0\n",
    "            with torch.no_grad():\n",
    "                cnn.eval()\n",
    "                for images, labels in test_loader:\n",
    "                    if(use_cuda):\n",
    "                        images = images.cuda()\n",
    "                        labels = labels.cuda()\n",
    "                    log_ps, hidden = cnn(images)\n",
    "                    test_loss += loss_func(log_ps, labels)\n",
    "                    ps = torch.exp(log_ps)\n",
    "                    top_p, top_class = ps.topk(1, dim=1)\n",
    "                    equals = top_class == labels.view(*top_class.shape)\n",
    "                    accuracy += torch.mean(equals.type(torch.FloatTensor))\n",
    "                if(use_cuda):\n",
    "                    train_loss = loss.data.cpu()\n",
    "                    validation_loss = test_loss/len(test_loader)\n",
    "                    acc = accuracy/len(test_loader)\n",
    "                else:\n",
    "                    train_loss = loss.data.numpy()\n",
    "                    validation_loss = test_loss/len(test_loader)\n",
    "                    acc = accuracy/len(test_loader)\n",
    "                    \n",
    "                print(\"epoch: {}/{}| \".format(epoch+1, EPOCH),\n",
    "                      \"step: {}/{}|\".format(step,len(train_loader)),\n",
    "                      \"train loss: {:.3f}| \".format(train_loss),\n",
    "                      \"Validation loss: {:.3f}| \".format(validation_loss),\n",
    "                      \"accuracy: {:.3f}\".format(acc))\n",
    "                cnn.train()\n",
    "cnn.eval()"
   ]
  }
 ],
 "metadata": {
  "kernelspec": {
   "display_name": "Python 3",
   "language": "python",
   "name": "python3"
  },
  "language_info": {
   "codemirror_mode": {
    "name": "ipython",
    "version": 3
   },
   "file_extension": ".py",
   "mimetype": "text/x-python",
   "name": "python",
   "nbconvert_exporter": "python",
   "pygments_lexer": "ipython3",
   "version": "3.6.9"
  }
 },
 "nbformat": 4,
 "nbformat_minor": 2
}
