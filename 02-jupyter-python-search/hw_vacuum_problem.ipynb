{
 "cells": [
  {
   "cell_type": "markdown",
   "metadata": {},
   "source": [
    "# HW Multi Location Vacuum Problem\n",
    "We want to add mobility of the vacuum robot to clean the place. By expanding to two dimensional space and up to 9-places, the problem may be more complex.\n",
    "<img src=\"images/hw2-1_multi_location_vacuum_problem.png\">"
   ]
  },
  {
   "cell_type": "markdown",
   "metadata": {},
   "source": [
    "In this question, you need to define the problem by yourself. The problem is limited by following rule:\n",
    "- The vacuum robot agent can go **(Left, Right, Up, Down)** and clean the place by **Sucking** action.\n",
    "- The place can be index 0~8 from left-top to right-bottom.\n",
    "- The goal is that: there is no dirt in all place.\n",
    "- If robot is located on edge of places, the going outside action **is not allowed**.\n",
    "- If robot is located on the clean place, the clean action **is not allowed**.\n"
   ]
  },
  {
   "cell_type": "markdown",
   "metadata": {},
   "source": [
    "## 1. Import python package"
   ]
  },
  {
   "cell_type": "code",
   "execution_count": 1,
   "metadata": {},
   "outputs": [],
   "source": [
    "import math\n",
    "import sys\n",
    "\n",
    "# For some data structure implementation\n",
    "import heapq\n",
    "from collections import defaultdict, deque, Counter"
   ]
  },
  {
   "cell_type": "markdown",
   "metadata": {},
   "source": [
    "## 2. Problem class definition"
   ]
  },
  {
   "cell_type": "code",
   "execution_count": 2,
   "metadata": {},
   "outputs": [],
   "source": [
    "class Problem(object):\n",
    "    def __init__(self, initial=None, goal=None, **other_keywords):\n",
    "        \"\"\"Specify the initial and goal states.\n",
    "        Subclasses can use other keywords if they want.\"\"\"\n",
    "        self.__dict__.update(initial=initial, goal=goal, **other_keywords) \n",
    "\n",
    "    def actions(self, state):           raise NotImplementedError\n",
    "    def result(self, state, action):    raise NotImplementedError\n",
    "    def is_goal(self, state):           return state == self.goal\n",
    "    def step_cost(self, s, action, s1): return 1\n",
    "    def h(self, node):                  return 0"
   ]
  },
  {
   "cell_type": "markdown",
   "metadata": {},
   "source": [
    "## 3. Node definition"
   ]
  },
  {
   "cell_type": "code",
   "execution_count": 3,
   "metadata": {},
   "outputs": [],
   "source": [
    "class Node:\n",
    "    '''A Node in a search tree.'''\n",
    "    def __init__(self, state, parent=None, action=None, path_cost=0):\n",
    "        # __dict__ store this object's all attributes\n",
    "        self.__dict__.update(state=state, parent=parent, action=action, path_cost=path_cost)\n",
    "    \n",
    "    '''All Reserve words are not introduced here. If you are interest in them, please Google them'''\n",
    "    # __repr__ is a built-in function used to compute the '''official''' string reputation of an object.\n",
    "    def __repr__(self): return '<{}>'.format(self.state)\n",
    "    def __len__(self): return 0 if self.parent is None else (1 + len(self.parent))\n",
    "    def __lt__(self, other): return self.state < other.state\n",
    "    \n",
    "failure = Node('failure', path_cost=float('inf')) # Indicates an algorithm couldn't find a solution.\n",
    "cutoff  = Node('cutoff',  path_cost=float('inf')) # Indicates iterative deeepening search was cut off.\n",
    "\n",
    "def expand(problem, node):\n",
    "    '''Expand a node, generating the children nodes.'''\n",
    "    s = node.state\n",
    "    for action in problem.actions(s): \n",
    "        s1 = problem.result(s, action)\n",
    "        cost = node.path_cost + problem.step_cost(s, action, s1)\n",
    "        yield Node(s1, node, action, cost)\n",
    "        \n",
    "\n",
    "def path_actions(node):\n",
    "    '''The sequence of actions to get to this node.'''\n",
    "    if node.parent is None:\n",
    "        return []\n",
    "    else: \n",
    "        return path_actions(node.parent) + [node.action]\n",
    "\n",
    "\n",
    "def path_states(node):\n",
    "    '''The sequence of states to get to this node.'''\n",
    "    if node.parent is None:\n",
    "        return ([] + [node.state])\n",
    "    else:\n",
    "        return (path_states(node.parent)) + [node.state]\n",
    "\n",
    "\n",
    "def path(node):\n",
    "    '''Alternating states and actions to get to this node.'''\n",
    "    if node.parent is None:\n",
    "        return ([] + [node.state])\n",
    "    else:\n",
    "        return (path(node.parent) + [node.action] ) + [node.state]"
   ]
  },
  {
   "cell_type": "markdown",
   "metadata": {},
   "source": [
    "## 4. Search Algorithms"
   ]
  },
  {
   "cell_type": "code",
   "execution_count": 4,
   "metadata": {},
   "outputs": [],
   "source": [
    "FIFOQueue = deque\n",
    "LIFOQueue = list\n",
    "\n",
    "def depth_limited_search(problem, limit=20):\n",
    "    \"Search deepest nodes in the search tree first.\"\n",
    "    frontier = LIFOQueue([Node(problem.initial)])\n",
    "    solution = failure\n",
    "    while frontier:\n",
    "        node = frontier.pop()\n",
    "        if len(node) > limit:\n",
    "            solution = cutoff\n",
    "        else:\n",
    "            for child in expand(problem, node):\n",
    "                if problem.is_goal(child.state):\n",
    "                    return child\n",
    "                frontier.append(child)\n",
    "    return solution\n",
    "\n",
    "def breadth_first_search(problem):\n",
    "    \"Search shallowest nodes in the search tree first.\"\n",
    "    frontier = FIFOQueue([Node(problem.initial)])\n",
    "    reached = set()\n",
    "    while frontier:\n",
    "        node = frontier.pop()\n",
    "        if problem.is_goal(node.state):\n",
    "            return node\n",
    "        for child in expand(problem, node):\n",
    "            s = child.state\n",
    "            if s not in reached:\n",
    "                reached.add(s)\n",
    "                frontier.appendleft(child)\n",
    "    return failure\n",
    "        "
   ]
  },
  {
   "cell_type": "code",
   "execution_count": 5,
   "metadata": {},
   "outputs": [],
   "source": [
    "class CountCalls:\n",
    "    \"\"\"Delegate all attribute accesses to the object, and count them in ._counts\"\"\"\n",
    "    def __init__(self, obj):\n",
    "        self._object = obj\n",
    "        self._counts = Counter()\n",
    "        \n",
    "    def __getattr__(self, attr):\n",
    "        self._counts[attr] += 1\n",
    "        return getattr(self._object, attr)\n",
    "        \n",
    "def report(searchers, problems):\n",
    "    \"Show metrics for each searcher on each problem.\"\n",
    "    for searcher in searchers:\n",
    "        print(searcher.__name__ + ':')\n",
    "        total_counts = Counter()\n",
    "        for p in problems:\n",
    "            prob   = CountCalls(p)\n",
    "            soln   = searcher(prob)\n",
    "            counts = prob._counts; \n",
    "            counts.update(len=len(path_actions(soln)), cost=soln.path_cost)\n",
    "            total_counts += counts\n",
    "            report_line(counts, type(p).__name__)\n",
    "        report_line(total_counts, 'TOTAL\\n')\n",
    "        \n",
    "def report_line(counts, name):\n",
    "    \"Print one line of the report.\"\n",
    "    print('{:9,d} explored |{:7,d} goal |{:5.0f} cost |{:3d} steps | {}'\n",
    "          .format(counts['result'], counts['is_goal'], \n",
    "                  counts['cost'], counts['len'], name))"
   ]
  },
  {
   "cell_type": "markdown",
   "metadata": {},
   "source": [
    "# MultiLocationVacuumProblem\n",
    "<font color=\"red\">\n",
    "    <h3>Fill in the ??? and verify the code to implement BFS and DFS for this problem. </h3>\n",
    "</font>"
   ]
  },
  {
   "cell_type": "code",
   "execution_count": null,
   "metadata": {},
   "outputs": [],
   "source": [
    "dirt  = '*'\n",
    "clean = ' '\n",
    "\n",
    "def board8(state, fmt=('{} {} {}\\n{} {} {}\\n{} {} {}\\n')):\n",
    "    \"A string representing an 8-puzzle board\"\n",
    "    loc = int(state[0])\n",
    "    dirt = list(state[1:])\n",
    "    if dirt[loc] == clean: dirt[loc] = '◯'\n",
    "    else: dirt[loc] = '⊕'\n",
    "    return fmt.format(*dirt)\n",
    "\n",
    "class MultiLocationVacuumProblem(Problem):    \n",
    "    def actions(self, state): \n",
    "        '''        \n",
    "        loc = int(state[0])\n",
    "        dirt = state[1:]\n",
    "        \n",
    "        action_set = ['??', '??', '??', '??', '??']\n",
    "        if loc in (??, ??, ??): action_set.remove('L')\n",
    "        if loc in (??, ??, ??): action_set.remove('U')\n",
    "        if loc in (??, ??, ??): action_set.remove('D')\n",
    "        if loc in (??, ??, ??): action_set.remove('R')\n",
    "        if dirt[loc] == clean: action_set.remove('S')\n",
    "        \n",
    "        return (tuple(action_set))\n",
    "        '''\n",
    "    \n",
    "    def is_goal(self, state):\n",
    "        '''\n",
    "        According to the goal described in top of this file, \n",
    "        the function will return true or false that whether\n",
    "        the dirt is existed in the any state.\n",
    "        \n",
    "        return ???\n",
    "        '''\n",
    "    \n",
    "    def result(self, state, action):   \n",
    "        '''\n",
    "        \n",
    "        loc = int(state[0])\n",
    "        dirt = list(state[1:])\n",
    "        \n",
    "        if action == 'L':\n",
    "            # do something when action == Left move\n",
    "        \n",
    "            return tuple(str(loc))+ tuple(dirt)\n",
    "        elif action == 'R':\n",
    "            # do something when action == Right move\n",
    "        \n",
    "            return tuple(str(loc))+ tuple(dirt)\n",
    "        elif action == 'U':\n",
    "            # do something when action == Up move\n",
    "        \n",
    "            return tuple(str(loc))+ tuple(dirt)\n",
    "        elif action == 'D':\n",
    "            # do something when action == Down move\n",
    "        \n",
    "            return tuple(str(loc))+ tuple(dirt)\n",
    "        elif action == 'S':\n",
    "            # do something when action == Suck\n",
    "        \n",
    "            return tuple(str(loc))+ tuple(dirt)\n",
    "        else: raise ValueRrror('unknown action: ' + action)\n",
    "        '''"
   ]
  },
  {
   "cell_type": "code",
   "execution_count": 7,
   "metadata": {},
   "outputs": [
    {
     "name": "stdout",
     "output_type": "stream",
     "text": [
      "(0, '*', ' ', '*', ' ', '*', ' ', '*', ' ', '*')\n"
     ]
    },
    {
     "data": {
      "text/plain": [
       "('3', '*', ' ', '*', ' ', '*', ' ', '*', ' ', '*')"
      ]
     },
     "execution_count": 7,
     "metadata": {},
     "output_type": "execute_result"
    }
   ],
   "source": [
    "# Test the problem declaration is correct or not\n",
    "initial_state = (0, '*', ' ', '*', ' ', '*', ' ', '*', ' ', '*')\n",
    "\n",
    "\n",
    "p1 = MultiLocationVacuumProblem(initial_state)\n",
    "print(p1.initial)\n",
    "p1.result(p1.initial, 'D')"
   ]
  },
  {
   "cell_type": "code",
   "execution_count": 8,
   "metadata": {},
   "outputs": [
    {
     "name": "stdout",
     "output_type": "stream",
     "text": [
      "  * *\n",
      "◯ *  \n",
      "*   *\n",
      "\n",
      "  * *\n",
      "  ⊕  \n",
      "*   *\n",
      "\n",
      "  * *\n",
      "  ◯  \n",
      "*   *\n",
      "\n",
      "  ⊕ *\n",
      "     \n",
      "*   *\n",
      "\n",
      "  ◯ *\n",
      "     \n",
      "*   *\n",
      "\n",
      "    ⊕\n",
      "     \n",
      "*   *\n",
      "\n",
      "    ◯\n",
      "     \n",
      "*   *\n",
      "\n",
      "     \n",
      "    ◯\n",
      "*   *\n",
      "\n",
      "     \n",
      "     \n",
      "*   ⊕\n",
      "\n",
      "     \n",
      "     \n",
      "*   ◯\n",
      "\n",
      "     \n",
      "     \n",
      "* ◯  \n",
      "\n",
      "     \n",
      "     \n",
      "⊕    \n",
      "\n",
      "     \n",
      "     \n",
      "◯    \n",
      "\n"
     ]
    }
   ],
   "source": [
    "initial_state = (3, ' ', '*', '*', ' ', '*', ' ', '*', ' ', '*')\n",
    "p1 = MultiLocationVacuumProblem(initial=initial_state)\n",
    "\n",
    "# result_graph = depth_limited_search(problem=p1, limit=20)\n",
    "result_graph = breadth_first_search(problem=p1)\n",
    "# Take a look the state sequence of the result\n",
    "for s in path_states(result_graph):\n",
    "    print(board8(s))"
   ]
  },
  {
   "cell_type": "code",
   "execution_count": 9,
   "metadata": {},
   "outputs": [
    {
     "name": "stdout",
     "output_type": "stream",
     "text": [
      "breadth_first_search:\n",
      "      822 explored |    279 goal |   12 cost | 12 steps | MultiLocationVacuumProblem\n",
      "      822 explored |    279 goal |   12 cost | 12 steps | TOTAL\n",
      "\n",
      "depth_limited_search:\n",
      "   68,135 explored | 68,135 goal |   21 cost | 21 steps | MultiLocationVacuumProblem\n",
      "   68,135 explored | 68,135 goal |   21 cost | 21 steps | TOTAL\n",
      "\n"
     ]
    }
   ],
   "source": [
    "report([breadth_first_search, depth_limited_search], [p1])"
   ]
  }
 ],
 "metadata": {
  "kernelspec": {
   "display_name": "Python 2",
   "language": "python",
   "name": "python2"
  },
  "language_info": {
   "codemirror_mode": {
    "name": "ipython",
    "version": 2
   },
   "file_extension": ".py",
   "mimetype": "text/x-python",
   "name": "python",
   "nbconvert_exporter": "python",
   "pygments_lexer": "ipython2",
   "version": "2.7.15+"
  }
 },
 "nbformat": 4,
 "nbformat_minor": 2
}
