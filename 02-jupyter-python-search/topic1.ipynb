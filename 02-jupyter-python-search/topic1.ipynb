{
 "cells": [
  {
   "cell_type": "markdown",
   "metadata": {},
   "source": [
    "# Topic 1. Problem Solving by Search\n",
    "\n",
    "Implementation of search algorithms and search problems for AIMA.\n",
    "\n",
    "We start by defining the abstract class for a `Problem`; problem domains will subclass this, and then you can create individual problems with specific initial states and goals. We also define a `Node` in a search tree, and some functions on nodes: `expand` to generate successors, and `path_actions`, `path_states` and `path` to recover aspects of the path from the node.  Finally, a `PriorityQueue`, which allows you to keep a collection of items, and continually remove from it the item with minimum `f(item)` score.\\\n",
    "\n",
    "### Example 1-1: The Route-Finding Domain\n",
    "\n",
    "Like all state-space search problems, in a route-finding problem you will be given:\n",
    "- A start state (for example, `'A'` for the city Arad).\n",
    "- A goal state (for example, `'B'` for the city Bucharest).\n",
    "- Actions that can change state (for example, driving from `'A'` to `'S'`).\n",
    "\n",
    "You will be asked to find:\n",
    "- A path from the start state, through intermediate states, to the goal state.\n",
    "\n",
    "We'll use this map:\n",
    "\n",
    "<img src=\"images/romania.jpg\" height=\"366\" width=\"603\">\n",
    "\n",
    "A state-space search problem can be represented by a *graph*, where the vertices of the graph are the states of the problem (in this case, cities) and the edges of the graph are the actions (in this case, driving along a road). More description will be shown below.\n"
   ]
  },
  {
   "cell_type": "markdown",
   "metadata": {},
   "source": [
    "# 1-1. Import python package & module"
   ]
  },
  {
   "cell_type": "code",
   "execution_count": 1,
   "metadata": {},
   "outputs": [],
   "source": [
    "import math\n",
    "import sys\n",
    "\n",
    "# For some data structure implementation\n",
    "import heapq\n",
    "from collections import defaultdict, deque, Counter\n",
    "\n",
    "# For visialization\n",
    "import matplotlib.pyplot as plt"
   ]
  },
  {
   "cell_type": "markdown",
   "metadata": {},
   "source": [
    "# 1-2. Problem abstract class definition"
   ]
  },
  {
   "cell_type": "code",
   "execution_count": 2,
   "metadata": {},
   "outputs": [],
   "source": [
    "class Problem(object):\n",
    "    def __init__(self, initial=None, goal=None, **other_keywords):\n",
    "        \"\"\"Specify the initial and goal states.\n",
    "        Subclasses can use other keywords if they want.\"\"\"\n",
    "        self.__dict__.update(initial=initial, goal=goal, **other_keywords) \n",
    "\n",
    "    def actions(self, state):           raise NotImplementedError\n",
    "    def result(self, state, action):    raise NotImplementedError\n",
    "    def is_goal(self, state):           return state == self.goal\n",
    "    def step_cost(self, s, action, s1): return 1\n",
    "    def h(self, node):                  return 0"
   ]
  },
  {
   "cell_type": "markdown",
   "metadata": {},
   "source": [
    "# 1-3. Node definition"
   ]
  },
  {
   "cell_type": "code",
   "execution_count": 3,
   "metadata": {},
   "outputs": [],
   "source": [
    "class Node:\n",
    "    '''A Node in a search tree.'''\n",
    "    def __init__(self, state, parent=None, action=None, path_cost=0):\n",
    "        # __dict__ store this object's all attributes\n",
    "        self.__dict__.update(state=state, parent=parent, action=action, path_cost=path_cost)\n",
    "    \n",
    "    '''All Reserve words are not introduced here. If you are interest in them, please Google them'''\n",
    "    # __repr__ is a built-in function used to compute the '''official''' string reputation of an object.\n",
    "    def __repr__(self): return '<{}>'.format(self.state)\n",
    "    def __len__(self): return 0 if self.parent is None else (1 + len(self.parent))\n",
    "    def __lt__(self, other): return self.state < other.state\n",
    "    \n",
    "failure = Node('failure', path_cost=float('inf')) # Indicates an algorithm couldn't find a solution.\n",
    "cutoff  = Node('cutoff',  path_cost=float('inf')) # Indicates iterative deeepening search was cut off.\n",
    "\n",
    "def expand(problem, node):\n",
    "    '''Expand a node, generating the children nodes.'''\n",
    "    s = node.state\n",
    "    for action in problem.actions(s): \n",
    "        s1 = problem.result(s, action)\n",
    "        cost = node.path_cost + problem.step_cost(s, action, s1)\n",
    "        yield Node(s1, node, action, cost)\n",
    "        \n",
    "\n",
    "def path_actions(node):\n",
    "    '''The sequence of actions to get to this node.'''\n",
    "    if node.parent is None:\n",
    "        return []\n",
    "    else: \n",
    "        return path_actions(node.parent) + [node.action]\n",
    "\n",
    "\n",
    "def path_states(node):\n",
    "    '''The sequence of states to get to this node.'''\n",
    "    if node.parent is None:\n",
    "        return ([] + [node.state])\n",
    "    else:\n",
    "        return (path_states(node.parent)) + [node.state]\n",
    "\n",
    "\n",
    "def path(node):\n",
    "    '''Alternating states and actions to get to this node.'''\n",
    "    if node.parent is None:\n",
    "        return ([] + [node.state])\n",
    "    else:\n",
    "        return (path(node.parent) + [node.action] ) + [node.state]"
   ]
  },
  {
   "cell_type": "markdown",
   "metadata": {},
   "source": [
    "# 1-4. Queue definition\n",
    "To implement the graph searching algorithm, we must choose a proper data structure to store the **node**. We show the `First-in-first-out queue` and `Last-in-first-out queue` (also famous with **stack**). The animation created by [visualgo.net](https://visualgo.net/en/dfsbfs) shows the process for inserting/removing a node. In practice, we implement the FIFOQueue with `deque` which is the python module from `collection` package and implement LIFOQueue with python `list`\n",
    "\n",
    "### First-in-first-out (queue)\n",
    "<img src=\"images/animated_queue.gif\" width=\"480px\" align=\"left\">\n",
    "<br /><br /><br /><br /><br />\n",
    "\n",
    "### Last-in-first-out queue (stack)\n",
    "<img src=\"images/animated_stack.gif\" width=\"240px\" align=\"left\">\n",
    "<br /><br /><br /><br /><br /><br /><br /><br /><br /><br /><br /><br /><br /><br />\n",
    "\n",
    "### PriorityQueue\n",
    "In addition, a `PriorityQueue`, which allows you to keep a collection of items, and continually remove from it the item with minimum `f(item)` score."
   ]
  },
  {
   "cell_type": "code",
   "execution_count": 4,
   "metadata": {},
   "outputs": [],
   "source": [
    "FIFOQueue = deque\n",
    "\n",
    "LIFOQueue = list\n",
    "\n",
    "class PriorityQueue:\n",
    "    \"\"\"A queue in which the item with minimum f(item) is always popped first.\"\"\"\n",
    "\n",
    "    def __init__(self, items=(), key=lambda x: x): \n",
    "        self.key = key\n",
    "        self.items = [] # a heap of (score, item) pairs\n",
    "        for item in items:\n",
    "            self.add(item)\n",
    "         \n",
    "    def add(self, item):\n",
    "        \"\"\"Add item to the queuez.\"\"\"\n",
    "        pair = (self.key(item), item)\n",
    "        heapq.heappush(self.items, pair)\n",
    "\n",
    "    def pop(self):\n",
    "        \"\"\"Pop and return the item with min f(item) value.\"\"\"\n",
    "        return heapq.heappop(self.items)[1]\n",
    "    \n",
    "    def top(self): return self.items[0][1]\n",
    "\n",
    "    def __len__(self): return len(self.items)"
   ]
  },
  {
   "cell_type": "markdown",
   "metadata": {},
   "source": [
    "# 1-5. Search Algorithms\n",
    "\n",
    "Here are the state-space search algorithms covered in the **AIMA** book:\n",
    "\n",
    "### Basic search algorithm review\n",
    "\n",
    "To bring something to your mind, we show two basic search algorithm below. Hope it can help you get the code quickly XD. The animation source is create by [visualgo.net](https://visualgo.net/en/dfsbfs)\n",
    "\n",
    "|  **BFS** | **DFS**  |\n",
    "|:---------------------:|:---------------------:|\n",
    "| <img src=\"images/animated_bfs.gif\" width=\"300px\">  | <img src=\"images/animated_dfs.gif\" width=\"300px\"> |\n"
   ]
  },
  {
   "cell_type": "code",
   "execution_count": 5,
   "metadata": {},
   "outputs": [],
   "source": [
    "def breadth_first_search(problem):\n",
    "    \"Search shallowest nodes in the search tree first.\"\n",
    "    frontier = FIFOQueue([Node(problem.initial)])\n",
    "    reached = set()\n",
    "    while frontier:\n",
    "        node = frontier.pop()\n",
    "        if problem.is_goal(node.state):\n",
    "            return node\n",
    "        for child in expand(problem, node):\n",
    "            s = child.state\n",
    "            if s not in reached:\n",
    "                reached.add(s)\n",
    "                frontier.appendleft(child)\n",
    "    return failure\n",
    "\n",
    "\n",
    "def depth_limited_search(problem, limit=5):\n",
    "    \"Search deepest nodes in the search tree first.\"\n",
    "    frontier = LIFOQueue([Node(problem.initial)])\n",
    "    solution = failure\n",
    "    while frontier:\n",
    "        node = frontier.pop()\n",
    "        if len(node) > limit:\n",
    "            solution = cutoff\n",
    "        else:\n",
    "            for child in expand(problem, node):\n",
    "                if problem.is_goal(child.state):\n",
    "                    return child\n",
    "                frontier.append(child)\n",
    "    return solution\n",
    "\n",
    "def iterative_deepening_search(problem):\n",
    "    \"Do depth-limited search with increasing depth limits.\"\n",
    "    for limit in range(1, sys.maxsize):\n",
    "        result = depth_limited_search(problem, limit)\n",
    "        if result != cutoff:\n",
    "            return result"
   ]
  },
  {
   "cell_type": "code",
   "execution_count": 6,
   "metadata": {},
   "outputs": [],
   "source": [
    "def best_first_search(problem, f):\n",
    "    \"Search nodes with minimum f(node) value first.\"\n",
    "    frontier = PriorityQueue([Node(problem.initial)], key=f)\n",
    "    reached = {}\n",
    "    while frontier:\n",
    "        node = frontier.pop()\n",
    "        if problem.is_goal(node.state):\n",
    "            return node\n",
    "        for child in expand(problem, node):\n",
    "            s = child.state\n",
    "            if s not in reached or child.path_cost < reached[s].path_cost:\n",
    "                reached[s] = child\n",
    "                frontier.add(child)\n",
    "    return failure\n",
    "\n",
    "def uniform_cost_search(problem):\n",
    "    \"Search nodes with minimum path cost first.\"\n",
    "    return best_first_search(problem, f=lambda node: node.path_cost)\n",
    "\n",
    "\n",
    "def astar_search(problem, h=None):\n",
    "    \"\"\"Search nodes with minimum f(n) = g(n) + h(n).\"\"\"\n",
    "    h = h or problem.h\n",
    "    return best_first_search(problem, f=lambda node: node.path_cost + h(node))"
   ]
  },
  {
   "cell_type": "markdown",
   "metadata": {},
   "source": [
    "# 1-6. Problem Domains\n",
    "\n",
    "Now we turn our attention to defining some problem domains.\n",
    "\n",
    "### The Route-Finding Domain\n",
    "\n",
    "Like all state-space search problems, in a route-finding problem you will be given:\n",
    "- A start state (for example, `'A'` for the city Arad).\n",
    "- A goal state (for example, `'B'` for the city Bucharest).\n",
    "- Actions that can change state (for example, driving from `'A'` to `'S'`).\n",
    "\n",
    "You will be asked to find:\n",
    "- A path from the start state, through intermediate states, to the goal state.\n",
    "\n",
    "We'll use this map:\n",
    "\n",
    "<img src=\"images/romania.jpg\" height=\"366\" width=\"603\">\n",
    "\n",
    "A state-space search problem can be represented by a *graph*, where the vertices of the graph are the states of the problem (in this case, cities) and the edges of the graph are the actions (in this case, driving along a road).\n",
    "\n",
    "We'll represent a city by its single initial letter. \n",
    "We'll represent the graph of connections as a `dict` that maps each city to a list of the neighboring cities (connected by a road). For now we don't explicitly represent the actions, nor the distances\n",
    "between cities."
   ]
  },
  {
   "cell_type": "markdown",
   "metadata": {},
   "source": [
    "## Example 1-1. Route Finding Problems"
   ]
  },
  {
   "cell_type": "code",
   "execution_count": 7,
   "metadata": {},
   "outputs": [],
   "source": [
    "def sldistance(A, B):\n",
    "    \"Straight-line distance between two 2D points.\"\n",
    "    return abs(complex(*A) - complex(*B))\n",
    "\n",
    "def multimap(pairs):\n",
    "    \"Given (key, val) pairs, make a dict of {key: [val,...]}.\"\n",
    "    result = defaultdict(list)\n",
    "    for key, val in pairs:\n",
    "        result[key].append(val)\n",
    "    return result\n",
    "\n",
    "class Map:\n",
    "    \"\"\"A map of places in a 2D world: a graph with vertexes and links between them. \n",
    "    `links` can be either [(v1, v2)...] pairs, or {(v1, v2): distance...}.\n",
    "    If `directed=False` then for every (v1, v2) link, we add a (v2, v1).\n",
    "    `locations` is optional and can be {v1: (x, y)} 2D locations of vertexes.\"\"\"\n",
    "    def __init__(self, links, locations=None, directed=False):\n",
    "        if not hasattr(links, 'items'): # Make `links` into a dict\n",
    "            links = defaultdict(lambda: 1, links)\n",
    "        if not directed:\n",
    "            for (v1, v2) in list(links):\n",
    "                links[v2, v1] = links[v1, v2]\n",
    "        self.distances = links\n",
    "        self.locations = locations or defaultdict(lambda: (0, 0))\n",
    "        self.neighbors = multimap(links)\n",
    "\n",
    "\n",
    "romania = Map(\n",
    "    {('O', 'Z'): 71, ('O', 'S'): 151, ('A', 'Z'): 75, ('A', 'S'): 140, ('A', 'T'): 118, \n",
    "     ('L', 'T'): 111, ('L', 'M'): 70, ('D', 'M'): 75, ('C', 'D'): 120, ('C', 'R'): 146, \n",
    "     ('C', 'P'): 138, ('R', 'S'): 80, ('F', 'S'): 99, ('B', 'F'): 211, ('B', 'P'): 101, \n",
    "     ('B', 'G'): 90, ('B', 'U'): 85, ('H', 'U'): 98,  ('E', 'H'): 86, ('U', 'V'): 142, \n",
    "     ('I', 'V'): 92, ('I', 'N'): 87, ('P', 'R'): 97},\n",
    "    dict(\n",
    "    A=(91, 492), B=(400, 327), C=(253, 288), D=(165, 299), E=(562, 293), F=(305, 449),\n",
    "    G=(375, 270), H=(534, 350), I=(473, 506), L=(165, 379), M=(168, 339), N=(406, 537),\n",
    "    O=(131, 571), P=(320, 368), R=(233, 410), S=(207, 457), T=(94, 410), U=(456, 350),\n",
    "    V=(509, 444), Z=(108, 531)))"
   ]
  },
  {
   "cell_type": "code",
   "execution_count": 8,
   "metadata": {},
   "outputs": [
    {
     "data": {
      "text/plain": [
       "['Z', 'T', 'S']"
      ]
     },
     "execution_count": 8,
     "metadata": {},
     "output_type": "execute_result"
    }
   ],
   "source": [
    "# Show the neighbors of the place\n",
    "romania.neighbors['A']"
   ]
  },
  {
   "cell_type": "code",
   "execution_count": 9,
   "metadata": {},
   "outputs": [
    {
     "data": {
      "text/plain": [
       "75"
      ]
     },
     "execution_count": 9,
     "metadata": {},
     "output_type": "execute_result"
    }
   ],
   "source": [
    "# Show distance between two adjacent place\n",
    "romania.distances['A', 'Z']"
   ]
  },
  {
   "cell_type": "code",
   "execution_count": 10,
   "metadata": {
    "scrolled": true
   },
   "outputs": [
    {
     "data": {
      "text/plain": [
       "(91, 492)"
      ]
     },
     "execution_count": 10,
     "metadata": {},
     "output_type": "execute_result"
    }
   ],
   "source": [
    "# Show the location infomation of the place\n",
    "romania.locations['A']"
   ]
  },
  {
   "cell_type": "markdown",
   "metadata": {},
   "source": [
    "<img src=\"images/romania.jpg\" height=\"366\" width=\"603\">"
   ]
  },
  {
   "cell_type": "code",
   "execution_count": 11,
   "metadata": {},
   "outputs": [],
   "source": [
    "class RouteProblem(Problem):\n",
    "    \"\"\"A problem to find a route between places on a map.\n",
    "    Use RouteProblem('S', 'G', map=Map(...)})\"\"\"\n",
    "    \n",
    "    def actions(self, state): \n",
    "        \"\"\"The places neighboring `state`. (Action names are same as place names.)\"\"\"\n",
    "        return self.map.neighbors[state]\n",
    "    \n",
    "    def result(self, state, action):\n",
    "        \"\"\"Go to the `action` place, if the map says that is possible.\"\"\"\n",
    "        return action if action in self.map.neighbors[state] else state\n",
    "    \n",
    "    def step_cost(self, s, action, s1):\n",
    "        \"\"\"The actual distance between s and s1.\"\"\"\n",
    "        return self.map.distances[s, s1]\n",
    "    \n",
    "    def h(self, node):\n",
    "        \"Straight-line distance between state and the goal.\"\n",
    "        locs = self.map.locations\n",
    "        return sldistance(locs[node.state], locs[self.goal])"
   ]
  },
  {
   "cell_type": "code",
   "execution_count": 12,
   "metadata": {},
   "outputs": [
    {
     "data": {
      "text/plain": [
       "['A', 'S', 'F', 'B']"
      ]
     },
     "execution_count": 12,
     "metadata": {},
     "output_type": "execute_result"
    }
   ],
   "source": [
    "# Solve a problem (which gives a node) and recover the sequence of states in that node's path\n",
    "problem_r1 = RouteProblem('A', 'B', map=romania)\n",
    "# Breadth first search finds a solution with fewer steps, but in this case higher path cost\n",
    "path_states(breadth_first_search(problem_r1))"
   ]
  },
  {
   "cell_type": "markdown",
   "metadata": {},
   "source": [
    "# 1-7. Reporting Metrics\n",
    "\n",
    "Now let's gather some metrics on how well each algorithm does. We'll use CountCalls to wrap a Problem object in such a way that calls to its methods are delegated, but each call increments a counter. Once we've solved the problem, we print out summary statistics."
   ]
  },
  {
   "cell_type": "code",
   "execution_count": 13,
   "metadata": {},
   "outputs": [],
   "source": [
    "class CountCalls:\n",
    "    \"\"\"Delegate all attribute accesses to the object, and count them in ._counts\"\"\"\n",
    "    def __init__(self, obj):\n",
    "        self._object = obj\n",
    "        self._counts = Counter()\n",
    "        \n",
    "    def __getattr__(self, attr):\n",
    "        self._counts[attr] += 1\n",
    "        return getattr(self._object, attr)\n",
    "        \n",
    "def report(searchers, problems_list):\n",
    "    \"Show metrics for each searcher on each problem.\"\n",
    "    for searcher in searchers:\n",
    "        print(searcher.__name__ + ':')\n",
    "        total_counts = Counter()\n",
    "        for p in problems_list:\n",
    "            prob   = CountCalls(p)\n",
    "            soln   = searcher(prob)\n",
    "            counts = prob._counts; \n",
    "            counts.update(len=len(path_actions(soln)), cost=soln.path_cost)\n",
    "            total_counts += counts\n",
    "            report_line(counts, type(p).__name__)\n",
    "        report_line(total_counts, 'TOTAL\\n')\n",
    "        \n",
    "def report_line(counts, name):\n",
    "    \"Print one line of the report.\"\n",
    "    print('{:9,d} nodes explored |{:7,d} goal |{:5.0f} cost |{:3d} steps | {}'\n",
    "          .format(counts['result'], counts['is_goal'], \n",
    "                  counts['cost'], counts['len'], name))"
   ]
  },
  {
   "cell_type": "code",
   "execution_count": 14,
   "metadata": {},
   "outputs": [
    {
     "name": "stdout",
     "output_type": "stream",
     "text": [
      "breadth_first_search:\n",
      "       31 nodes explored |     13 goal |  450 cost |  3 steps | RouteProblem\n",
      "       45 nodes explored |     21 goal | 1085 cost |  9 steps | RouteProblem\n",
      "       76 nodes explored |     34 goal | 1535 cost | 12 steps | TOTAL\n",
      "\n",
      "astar_search:\n",
      "       15 nodes explored |      6 goal |  418 cost |  4 steps | RouteProblem\n",
      "       35 nodes explored |     16 goal |  910 cost |  9 steps | RouteProblem\n",
      "       50 nodes explored |     22 goal | 1328 cost | 13 steps | TOTAL\n",
      "\n"
     ]
    }
   ],
   "source": [
    "r1 = RouteProblem('A', 'B', map=romania)\n",
    "r2 = RouteProblem('N', 'L', map=romania)\n",
    "\n",
    "# Here's a tiny report\n",
    "report([breadth_first_search, astar_search], [r1, r2])"
   ]
  }
 ],
 "metadata": {
  "kernelspec": {
   "display_name": "Python 2",
   "language": "python",
   "name": "python2"
  },
  "language_info": {
   "codemirror_mode": {
    "name": "ipython",
    "version": 2
   },
   "file_extension": ".py",
   "mimetype": "text/x-python",
   "name": "python",
   "nbconvert_exporter": "python",
   "pygments_lexer": "ipython2",
   "version": "2.7.15+"
  }
 },
 "nbformat": 4,
 "nbformat_minor": 2
}
